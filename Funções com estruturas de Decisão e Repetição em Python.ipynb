{
 "cells": [
  {
   "cell_type": "markdown",
   "source": [
    "# Funções com estruturas de Decisão e Repetição em Python\r\n",
    "\r\n",
    "Criação de uma função que recebe uma lista de tamanho 5 como parâmetro. Esta percorre cada elemento da lista e verifica se o elemento é par ou não. Se for par, salva em uma nova lista que deve ser retornada com todos os valores pares encontrados:"
   ],
   "metadata": {}
  },
  {
   "cell_type": "markdown",
   "source": [
    "Teste"
   ],
   "metadata": {}
  },
  {
   "cell_type": "code",
   "execution_count": null,
   "source": [
    "lista_dados = [1, 2, 3, 4, 5]\r\n",
    "lista_pares = []\r\n",
    "lista_dados[0] = int(input(\"Primeiro valor a testar: \"))\r\n",
    "lista_dados[1] = int(input(\"Segundo valor a testar: \"))\r\n",
    "lista_dados[2] = int(input(\"Terceiro valor a testar: \"))\r\n",
    "lista_dados[3] = int(input(\"Quarto valor a testar: \"))\r\n",
    "lista_dados[4] = int(input(\"Quinto valor a testar: \"))\r\n",
    "\r\n",
    "for i in lista_dados:\r\n",
    "    if i % 2 == 0:\r\n",
    "        lista_pares.append(i)\r\n",
    "    else:\r\n",
    "            continue\r\n",
    "print(\"Os valores pares testados são: \", lista_pares)"
   ],
   "outputs": [],
   "metadata": {}
  },
  {
   "cell_type": "markdown",
   "source": [
    "Escrevendo um código que chama o módulo random. Dentro deste módulo utilizei a função que gera números aleatórios inteiros para criar uma função customizada que pede para o usuário digitar a quantidade de sorteios que ele deseja e roda sorteando essa quantidade de números. Alguns usuários podem não entender que o input é um número e digitar por exemplo \"três\", o que geraria um erro no código. Então, escreva essa função de maneira a tratar esse erro, enviando uma mensagem que ajude o usuário a resolver o problema:"
   ],
   "metadata": {}
  },
  {
   "cell_type": "code",
   "execution_count": null,
   "source": [
    "import random as r\r\n",
    "\r\n",
    "try:\r\n",
    "    num = int(input(\"Informe a quantidade de sorteio(s): \"))\r\n",
    "    def sorteio(num):\r\n",
    "        while num > 0:\r\n",
    "            print(\"O número sorteado é: \", r.randint(0,100))\r\n",
    "            num = num - 1;\r\n",
    "        return num\r\n",
    "    print(sorteio(num))\r\n",
    "except:\r\n",
    "    print(\"Favor corrigir o valor inserido, sem colocar texto, somente números. Exemplo: 1, 2 ou 3\")"
   ],
   "outputs": [],
   "metadata": {}
  },
  {
   "cell_type": "markdown",
   "source": [
    "Função que cria uma classe cliente. Esse cliente possui 2 atributos: nome e saldo e dois métodos: depositar e sacar. Utilizando a classe, criei um cliente, utilizei os métodos criados para depositar 100 reais na conta do cliente, que começou com saldo 0 e depois do depósito deve apresentar saldo 100. Na sequência, realizei um saque de 20 reais. Também considerei como premissa que o código impedisse que o usuário sacasse mais do que ele tem em saldo:"
   ],
   "metadata": {}
  },
  {
   "cell_type": "code",
   "execution_count": 62,
   "source": [
    "class cliente:\r\n",
    "    \r\n",
    "    def __init__(self, nome):\r\n",
    "        self.nome = nome\r\n",
    "        self.saldo = 0\r\n",
    "        \r\n",
    "    def depositar(self):\r\n",
    "        try:\r\n",
    "            depositar = int(input(\"Informe o valor a ser depositado: \"))\r\n",
    "            self.saldo = self.saldo + depositar\r\n",
    "            print(\"O valor de saldo atual é: \", round(self.saldo,2))\r\n",
    "        except ValueError:\r\n",
    "            print(\"Você só pode colocar números aqui!\")\r\n",
    "        \r\n",
    "    def sacar(self):\r\n",
    "        try:\r\n",
    "            sacar = int(input(\"Informe o valor a ser sacado: \"))\r\n",
    "            if sacar < self.saldo:\r\n",
    "                self.saldo = self.saldo - sacar\r\n",
    "                print(\"O valor solicitado do saque é: \", round(sacar,2))\r\n",
    "                print(\"O valor do saldo é: \", round(self.saldo,2))\r\n",
    "            else:\r\n",
    "                print(\"O valor solicitado para saque é maior do que o saldo, que atualmente é: \", self.saldo)\r\n",
    "        except ValueError:\r\n",
    "            print(\"Você só pode colocar números aqui!\")"
   ],
   "outputs": [],
   "metadata": {}
  },
  {
   "cell_type": "code",
   "execution_count": 63,
   "source": [
    "cliente1 = cliente(\"Andrew\")"
   ],
   "outputs": [],
   "metadata": {}
  },
  {
   "cell_type": "code",
   "execution_count": 64,
   "source": [
    "cliente1.depositar()"
   ],
   "outputs": [
    {
     "output_type": "stream",
     "name": "stdout",
     "text": [
      "Informe o valor a ser depositado: 1000\n",
      "O valor de saldo atual é:  1000\n"
     ]
    }
   ],
   "metadata": {}
  },
  {
   "cell_type": "code",
   "execution_count": 66,
   "source": [
    "cliente1.sacar()"
   ],
   "outputs": [
    {
     "output_type": "stream",
     "name": "stdout",
     "text": [
      "Informe o valor a ser sacado: 450\n",
      "O valor solicitado do saque é:  450\n",
      "O valor do saldo é:  550\n"
     ]
    }
   ],
   "metadata": {}
  }
 ],
 "metadata": {
  "kernelspec": {
   "display_name": "Python 3",
   "language": "python",
   "name": "python3"
  },
  "language_info": {
   "codemirror_mode": {
    "name": "ipython",
    "version": 3
   },
   "file_extension": ".py",
   "mimetype": "text/x-python",
   "name": "python",
   "nbconvert_exporter": "python",
   "pygments_lexer": "ipython3",
   "version": "3.8.5"
  }
 },
 "nbformat": 4,
 "nbformat_minor": 4
}