{
 "cells": [
  {
   "cell_type": "markdown",
   "source": [
    "# Manipulações de DB em Sqlite3\r\n",
    "Criação de tabela dados_cadastrais onde cada linha representa um funcionário e com os seguintes atributos: id, nome, sobrenome, data_nasci_ cpf e endereco; Criar uma tabela de dados_profissionais com id, graduacao, cargo, salario e tempo_casa. Após, foi criado outros 4 registros para inserir na tabela:"
   ],
   "metadata": {}
  },
  {
   "cell_type": "code",
   "execution_count": 9,
   "source": [
    "import sqlite3\r\n",
    "conndc = sqlite3.connect(\"dados_cadastrais\")\r\n",
    "print(conndc)\r\n",
    "cursordc = conndc.cursor()\r\n",
    "cursordc.execute(\"CREATE TABLE dados_cadastrais (id integer, nome text, sobrenome text, cpf integer, endereco text)\")"
   ],
   "outputs": [
    {
     "output_type": "stream",
     "name": "stdout",
     "text": [
      "<sqlite3.Connection object at 0x0000023DF8029B70>\n"
     ]
    },
    {
     "output_type": "execute_result",
     "data": {
      "text/plain": [
       "<sqlite3.Cursor at 0x23df8227f10>"
      ]
     },
     "metadata": {},
     "execution_count": 9
    }
   ],
   "metadata": {}
  },
  {
   "cell_type": "code",
   "execution_count": 12,
   "source": [
    "cursordc.execute(\"INSERT INTO dados_cadastrais VALUES(1, 'maria', 'silva', 11111211313, 'Rua 1 - SP')\") \r\n",
    "cursordc.execute(\"INSERT INTO dados_cadastrais VALUES(2, 'joao', 'silva', 11111211889, 'Rua 2 - SP')\") \r\n",
    "cursordc.execute(\"INSERT INTO dados_cadastrais VALUES(3, 'pedro', 'pereira',11111211786, 'Rua 8 - SP')\")\r\n",
    "cursordc.execute(\"INSERT INTO dados_cadastrais VALUES(4, 'paulo', 'ribeiro', 11111211123, 'Rua 9 - SP')\")\r\n",
    "conndc.commit()"
   ],
   "outputs": [],
   "metadata": {}
  },
  {
   "cell_type": "code",
   "execution_count": 3,
   "source": [
    "import sqlite3\r\n",
    "conndp = sqlite3.connect(\"dados_profissionais\")\r\n",
    "print(conndp)\r\n",
    "cursordp = conndp.cursor()\r\n",
    "cursordp.execute(\"CREATE TABLE dados_profissionais (id integer, graduacao text, cargo text, salario integer, tempo_casa integer)\")"
   ],
   "outputs": [
    {
     "output_type": "stream",
     "name": "stdout",
     "text": [
      "<sqlite3.Connection object at 0x0000023DF80298A0>\n"
     ]
    },
    {
     "output_type": "execute_result",
     "data": {
      "text/plain": [
       "<sqlite3.Cursor at 0x23df8227500>"
      ]
     },
     "metadata": {},
     "execution_count": 3
    }
   ],
   "metadata": {}
  },
  {
   "cell_type": "code",
   "execution_count": 4,
   "source": [
    "cursordp.execute(\"INSERT INTO dados_profissionais VALUES(1, 'matematica', 'professor', 3500.89, 3)\") \r\n",
    "cursordp.execute(\"INSERT INTO dados_profissionais VALUES(2, 'geografia', 'orientador', 2850.8, 1)\") \r\n",
    "cursordp.execute(\"INSERT INTO dados_profissionais VALUES(3, 'historia', 'orientador',3200.45, 1)\")\r\n",
    "cursordp.execute(\"INSERT INTO dados_profissionais VALUES(4, 'fisica', 'professor', 1890.33, 2)\")\r\n",
    "conndp.commit()"
   ],
   "outputs": [],
   "metadata": {}
  },
  {
   "cell_type": "markdown",
   "source": [
    "Comando para validar se a tabela dados cadastrais estava criada:"
   ],
   "metadata": {}
  },
  {
   "cell_type": "code",
   "execution_count": 5,
   "source": [
    "cursordc.execute('SELECT name from sqlite_master where type= \"table\"')\r\n",
    "cursordc.fetchall()"
   ],
   "outputs": [
    {
     "output_type": "execute_result",
     "data": {
      "text/plain": [
       "[('dados_cadastrais',)]"
      ]
     },
     "metadata": {},
     "execution_count": 5
    }
   ],
   "metadata": {}
  },
  {
   "cell_type": "markdown",
   "source": [
    "Comando para apresentar todos os dados provenientes da tabela dados_cadastrais:"
   ],
   "metadata": {}
  },
  {
   "cell_type": "code",
   "execution_count": 13,
   "source": [
    "cursordc.execute(\"SELECT * FROM dados_cadastrais\")\r\n",
    "cursordc.fetchall()"
   ],
   "outputs": [
    {
     "output_type": "execute_result",
     "data": {
      "text/plain": [
       "[(1, 'maria', 'silva', 11111211313, 'Rua 1 - SP'),\n",
       " (2, 'joao', 'silva', 11111211889, 'Rua 2 - SP'),\n",
       " (3, 'pedro', 'pereira', 11111211786, 'Rua 8 - SP'),\n",
       " (4, 'paulo', 'ribeiro', 11111211123, 'Rua 9 - SP')]"
      ]
     },
     "metadata": {},
     "execution_count": 13
    }
   ],
   "metadata": {}
  },
  {
   "cell_type": "markdown",
   "source": [
    "Comando para validar se a tabela dados profissionais estava criada:"
   ],
   "metadata": {}
  },
  {
   "cell_type": "code",
   "execution_count": 5,
   "source": [
    "cursordp.execute('SELECT name from sqlite_master where type= \"table\"')\r\n",
    "cursordp.fetchall()"
   ],
   "outputs": [
    {
     "output_type": "execute_result",
     "data": {
      "text/plain": [
       "[('dados_profissionais',)]"
      ]
     },
     "metadata": {},
     "execution_count": 5
    }
   ],
   "metadata": {}
  },
  {
   "cell_type": "markdown",
   "source": [
    "Comando para apresentar todos os dados provenientes da tabela dados_profissionais:"
   ],
   "metadata": {}
  },
  {
   "cell_type": "code",
   "execution_count": 6,
   "source": [
    "cursordp.execute(\"SELECT * FROM dados_profissionais\")\r\n",
    "cursordp.fetchall()"
   ],
   "outputs": [
    {
     "output_type": "execute_result",
     "data": {
      "text/plain": [
       "[(1, 'matematica', 'professor', 3500.89, 3),\n",
       " (2, 'geografia', 'orientador', 2850.8, 1),\n",
       " (3, 'historia', 'orientador', 3200.45, 1),\n",
       " (4, 'fisica', 'professor', 1890.33, 2)]"
      ]
     },
     "metadata": {},
     "execution_count": 6
    }
   ],
   "metadata": {}
  },
  {
   "cell_type": "markdown",
   "source": [
    "Usando a tabela dados profissionais, realizada query retornando todos os campos da tabela ordenando-os pela coluna tempo de casa, de maneira decrescente:"
   ],
   "metadata": {}
  },
  {
   "cell_type": "code",
   "execution_count": 7,
   "source": [
    "cursordp.execute(\"SELECT id, graduacao, cargo, salario, tempo_casa FROM dados_profissionais ORDER BY tempo_casa DESC\")\r\n",
    "cursordp.fetchall()"
   ],
   "outputs": [
    {
     "output_type": "execute_result",
     "data": {
      "text/plain": [
       "[(1, 'matematica', 'professor', 3500.89, 3),\n",
       " (4, 'fisica', 'professor', 1890.33, 2),\n",
       " (2, 'geografia', 'orientador', 2850.8, 1),\n",
       " (3, 'historia', 'orientador', 3200.45, 1)]"
      ]
     },
     "metadata": {},
     "execution_count": 7
    }
   ],
   "metadata": {}
  },
  {
   "cell_type": "markdown",
   "source": [
    "Contagem da quantidade de funcionários da empresa:"
   ],
   "metadata": {}
  },
  {
   "cell_type": "code",
   "execution_count": 14,
   "source": [
    "cursordc.execute(\"SELECT COUNT(id) FROM dados_cadastrais\")\r\n",
    "cursordc.fetchall()"
   ],
   "outputs": [
    {
     "output_type": "execute_result",
     "data": {
      "text/plain": [
       "[(4,)]"
      ]
     },
     "metadata": {},
     "execution_count": 14
    }
   ],
   "metadata": {}
  },
  {
   "cell_type": "markdown",
   "source": [
    "Usando a tabela dados cadastrais, realizada query listando apenas os funcionários que possuem sobrenome \"silva\", ordenados pelo nome completo: "
   ],
   "metadata": {}
  },
  {
   "cell_type": "code",
   "execution_count": 22,
   "source": [
    "cursordc.execute(\"SELECT nome, sobrenome FROM dados_cadastrais WHERE sobrenome = 'silva' ORDER BY nome |\" \"| sobrenome ASC\")\r\n",
    "cursordc.fetchall()"
   ],
   "outputs": [
    {
     "output_type": "execute_result",
     "data": {
      "text/plain": [
       "[('joao', 'silva'), ('maria', 'silva')]"
      ]
     },
     "metadata": {},
     "execution_count": 22
    }
   ],
   "metadata": {}
  },
  {
   "cell_type": "markdown",
   "source": [
    "Realizada query para listagem de valor da folha de pagamento da empresa por cargo, usando a tabela dados_profissionais:"
   ],
   "metadata": {}
  },
  {
   "cell_type": "code",
   "execution_count": 31,
   "source": [
    "cursordp.execute(\"SELECT SUM(salario) as salario_cargo, cargo FROM dados_profissionais\\\r\n",
    "                GROUP BY cargo\")\r\n",
    "cursordp.fetchall()"
   ],
   "outputs": [
    {
     "output_type": "execute_result",
     "data": {
      "text/plain": [
       "[(6051.25, 'orientador'), (5391.219999999999, 'professor')]"
      ]
     },
     "metadata": {},
     "execution_count": 31
    }
   ],
   "metadata": {}
  }
 ],
 "metadata": {
  "kernelspec": {
   "display_name": "Python 3",
   "language": "python",
   "name": "python3"
  },
  "language_info": {
   "codemirror_mode": {
    "name": "ipython",
    "version": 3
   },
   "file_extension": ".py",
   "mimetype": "text/x-python",
   "name": "python",
   "nbconvert_exporter": "python",
   "pygments_lexer": "ipython3",
   "version": "3.8.5"
  }
 },
 "nbformat": 4,
 "nbformat_minor": 4
}