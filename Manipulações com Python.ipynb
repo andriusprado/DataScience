{
 "cells": [
  {
   "cell_type": "markdown",
   "source": [
    "# Manipulações com Python"
   ],
   "metadata": {}
  },
  {
   "cell_type": "markdown",
   "source": [
    "Trabalhando com strings: Passando os valores para duas variáveis diferentes, para após exibí-las, avaliar o tipo e verificar se as duas contém o mesmo conteúdo:"
   ],
   "metadata": {}
  },
  {
   "cell_type": "code",
   "execution_count": 1,
   "source": [
    "string1 = \"Andrew\"\r\n",
    "string2 = \"Prado\"\r\n",
    "print(string1)\r\n",
    "print(string2)\r\n",
    "print(type(string1))\r\n",
    "print(type(string2))\r\n",
    "string1 == string2"
   ],
   "outputs": [
    {
     "output_type": "stream",
     "name": "stdout",
     "text": [
      "Andrew\n",
      "Prado\n",
      "<class 'str'>\n",
      "<class 'str'>\n"
     ]
    },
    {
     "output_type": "execute_result",
     "data": {
      "text/plain": [
       "False"
      ]
     },
     "metadata": {},
     "execution_count": 1
    }
   ],
   "metadata": {}
  },
  {
   "cell_type": "markdown",
   "source": [
    "Atribuindo valor para a variável resto por meio da operação %:"
   ],
   "metadata": {}
  },
  {
   "cell_type": "code",
   "execution_count": 2,
   "source": [
    "variavel1 = 17\r\n",
    "variavel2 = 10\r\n",
    "resto = variavel1%variavel2\r\n",
    "print(resto)"
   ],
   "outputs": [
    {
     "output_type": "stream",
     "name": "stdout",
     "text": [
      "7\n"
     ]
    }
   ],
   "metadata": {}
  },
  {
   "cell_type": "markdown",
   "source": [
    "Trabalhando com listas: Atribuindo uma lista para a variável, posteriormente, exibindo os valores e o tipo de classe da variável:"
   ],
   "metadata": {}
  },
  {
   "cell_type": "code",
   "execution_count": 3,
   "source": [
    "lista_ex2 = [\"Andrew\", \"Prado\", \"Andrew\", \"Prado\", \"Eduarda\", \"Ardenghi\", \"Eduarda\", \"Ardenghi\", \"Amanda\", \"Oliveira\", \"Amanda\", \"Oliveira\"]\r\n",
    "print(lista_ex2)\r\n",
    "print(type(lista_ex2))"
   ],
   "outputs": [
    {
     "output_type": "stream",
     "name": "stdout",
     "text": [
      "['Andrew', 'Prado', 'Andrew', 'Prado', 'Eduarda', 'Ardenghi', 'Eduarda', 'Ardenghi', 'Amanda', 'Oliveira', 'Amanda', 'Oliveira']\n",
      "<class 'list'>\n"
     ]
    }
   ],
   "metadata": {}
  },
  {
   "cell_type": "markdown",
   "source": [
    "Trabalhando com a função Set: Convertendo a lista anterior para a classe set, assim, removendo todos os itens duplicados da lista, comprovado por meio da extensão da lista antes (len = 12) e depois (len= 6):"
   ],
   "metadata": {}
  },
  {
   "cell_type": "code",
   "execution_count": 4,
   "source": [
    "print(len(lista_ex2))\r\n",
    "lista_ex2 = set(lista_ex2)\r\n",
    "print(set(lista_ex2))\r\n",
    "print(len(set(lista_ex2)))\r\n",
    "print(type(lista_ex2))"
   ],
   "outputs": [
    {
     "output_type": "stream",
     "name": "stdout",
     "text": [
      "12\n",
      "{'Andrew', 'Ardenghi', 'Prado', 'Amanda', 'Oliveira', 'Eduarda'}\n",
      "6\n",
      "<class 'set'>\n"
     ]
    }
   ],
   "metadata": {}
  },
  {
   "cell_type": "markdown",
   "source": [
    "Trabalhando com listas e dicionários utilizando a função zip, para unir as listas e transformar posteriormente em dicionários:"
   ],
   "metadata": {}
  },
  {
   "cell_type": "code",
   "execution_count": 5,
   "source": [
    "lista_nomes_clientes = [\"Andrew\", \"Eduarda\", \"Amanda\", \"Bianca\", \"Antônio\"]\r\n",
    "lista_produtos_consumidos = [\"A, B, C\", \"A, C\", \"C, D, E\", \"A\", \"B, D\"]\r\n",
    "print(lista_nomes_clientes)\r\n",
    "print(lista_produtos_consumidos)\r\n",
    "print(type(lista_nomes_clientes))\r\n",
    "print(type(lista_produtos_consumidos))\r\n",
    "lista_resumo = list(zip(lista_nomes_clientes, lista_produtos_consumidos)) ; lista_resumo\r\n",
    "print(lista_resumo)\r\n",
    "print(type(lista_resumo))\r\n",
    "dicionario = dict(lista_resumo)\r\n",
    "print(dicionario)\r\n",
    "print(type(dicionario))"
   ],
   "outputs": [
    {
     "output_type": "stream",
     "name": "stdout",
     "text": [
      "['Andrew', 'Eduarda', 'Amanda', 'Bianca', 'Antônio']\n",
      "['A, B, C', 'A, C', 'C, D, E', 'A', 'B, D']\n",
      "<class 'list'>\n",
      "<class 'list'>\n",
      "[('Andrew', 'A, B, C'), ('Eduarda', 'A, C'), ('Amanda', 'C, D, E'), ('Bianca', 'A'), ('Antônio', 'B, D')]\n",
      "<class 'list'>\n",
      "{'Andrew': 'A, B, C', 'Eduarda': 'A, C', 'Amanda': 'C, D, E', 'Bianca': 'A', 'Antônio': 'B, D'}\n",
      "<class 'dict'>\n"
     ]
    }
   ],
   "metadata": {}
  }
 ],
 "metadata": {
  "kernelspec": {
   "name": "python3",
   "display_name": "Python 3.8.8 64-bit ('base': conda)"
  },
  "language_info": {
   "codemirror_mode": {
    "name": "ipython",
    "version": 3
   },
   "file_extension": ".py",
   "mimetype": "text/x-python",
   "name": "python",
   "nbconvert_exporter": "python",
   "pygments_lexer": "ipython3",
   "version": "3.8.8"
  },
  "interpreter": {
   "hash": "c300d1e7a819deddf48e46bb154d613e4e71c7bca116457804a4358ba9792681"
  }
 },
 "nbformat": 4,
 "nbformat_minor": 4
}